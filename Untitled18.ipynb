{
  "nbformat": 4,
  "nbformat_minor": 0,
  "metadata": {
    "colab": {
      "provenance": []
    },
    "kernelspec": {
      "name": "python3",
      "display_name": "Python 3"
    },
    "language_info": {
      "name": "python"
    }
  },
  "cells": [
    {
      "cell_type": "code",
      "execution_count": null,
      "metadata": {
        "colab": {
          "base_uri": "https://localhost:8080/",
          "height": 654
        },
        "id": "xc9kT5e4QiDQ",
        "outputId": "f09292d1-4a56-4234-9b89-f479d5c16589"
      },
      "outputs": [
        {
          "output_type": "stream",
          "name": "stdout",
          "text": [
            "Epoch 1/5\n",
            "938/938 [==============================] - 51s 52ms/step - loss: 0.1817 - accuracy: 0.9440 - val_loss: 0.0584 - val_accuracy: 0.9810\n",
            "Epoch 2/5\n",
            "938/938 [==============================] - 50s 53ms/step - loss: 0.0511 - accuracy: 0.9841 - val_loss: 0.0357 - val_accuracy: 0.9882\n",
            "Epoch 3/5\n",
            "938/938 [==============================] - 48s 52ms/step - loss: 0.0355 - accuracy: 0.9890 - val_loss: 0.0313 - val_accuracy: 0.9888\n",
            "Epoch 4/5\n",
            "938/938 [==============================] - 48s 51ms/step - loss: 0.0270 - accuracy: 0.9917 - val_loss: 0.0342 - val_accuracy: 0.9882\n",
            "Epoch 5/5\n",
            "938/938 [==============================] - 50s 54ms/step - loss: 0.0222 - accuracy: 0.9928 - val_loss: 0.0273 - val_accuracy: 0.9915\n",
            "313/313 [==============================] - 3s 8ms/step - loss: 0.0273 - accuracy: 0.9915\n",
            "Test accuracy: 0.9915000200271606\n",
            "1/1 [==============================] - 0s 96ms/step\n"
          ]
        },
        {
          "output_type": "display_data",
          "data": {
            "text/plain": [
              "<Figure size 640x480 with 1 Axes>"
            ],
            "image/png": "[encoded data removed]"
          },
          "metadata": {}
        }
      ],
      "source": [
        "import numpy as np\n",
        "import matplotlib.pyplot as plt\n",
        "from keras.datasets import mnist\n",
        "from keras.models import Sequential\n",
        "from keras.layers import Conv2D, MaxPooling2D, Flatten, Dense\n",
        "from keras.utils import to_categorical\n",
        "\n",
        "# Load and preprocess the MNIST dataset\n",
        "(x_train, y_train), (x_test, y_test) = mnist.load_data()\n",
        "x_train = x_train.reshape((x_train.shape[0], 28, 28, 1)).astype('float32') / 255\n",
        "x_test = x_test.reshape((x_test.shape[0], 28, 28, 1)).astype('float32') / 255\n",
        "y_train = to_categorical(y_train)\n",
        "y_test = to_categorical(y_test)\n",
        "\n",
        "# Create the CNN model\n",
        "model = Sequential()\n",
        "model.add(Conv2D(32, (3, 3), activation='relu', input_shape=(28, 28, 1)))\n",
        "model.add(MaxPooling2D((2, 2)))\n",
        "model.add(Conv2D(64, (3, 3), activation='relu'))\n",
        "model.add(MaxPooling2D((2, 2)))\n",
        "model.add(Conv2D(64, (3, 3), activation='relu'))\n",
        "model.add(Flatten())\n",
        "model.add(Dense(64, activation='relu'))\n",
        "model.add(Dense(10, activation='softmax'))\n",
        "\n",
        "# Compile the model\n",
        "model.compile(optimizer='adam', loss='categorical_crossentropy', metrics=['accuracy'])\n",
        "\n",
        "# Train the model\n",
        "model.fit(x_train, y_train, epochs=5, batch_size=64, validation_data=(x_test, y_test))\n",
        "\n",
        "# Evaluate the model\n",
        "test_loss, test_acc = model.evaluate(x_test, y_test)\n",
        "print('Test accuracy:', test_acc)\n",
        "\n",
        "# Predict on a sample\n",
        "sample_index = 0\n",
        "sample_image = x_test[sample_index].reshape(28, 28)\n",
        "sample_label = np.argmax(y_test[sample_index])\n",
        "prediction = np.argmax(model.predict(sample_image.reshape(1, 28, 28, 1)))\n",
        "\n",
        "# Display the sample and prediction\n",
        "plt.imshow(sample_image, cmap='gray')\n",
        "plt.title(f\"True Label: {sample_label}, Predicted Label: {prediction}\")\n",
        "plt.axis('off')\n",
        "plt.show()"
      ]
    }
  ]
}